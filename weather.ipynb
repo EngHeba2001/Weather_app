{
 "cells": [
  {
   "cell_type": "code",
   "execution_count": 1,
   "metadata": {},
   "outputs": [
    {
     "name": "stdout",
     "output_type": "stream",
     "text": [
      "In cairo, EG, the temperature is 28.42 degree Celsius and humidity is 20%\n"
     ]
    }
   ],
   "source": [
    "import requests\n",
    "\n",
    "def get_weather(city_name):\n",
    "    API_key = '84bece80722d0f3248e42cf34198d2e5'\n",
    "    url = f'https://api.openweathermap.org/data/2.5/weather?q={city_name}&appid={API_key}&units=metric'\n",
    "    res = requests.get(url)\n",
    "    data = res.json()\n",
    "    temp = data['main']['temp']\n",
    "    humidity = data['main']['humidity']\n",
    "    country = data['sys']['country']\n",
    "    print(f'In {city_name}, {country}, the temperature is {temp} degree Celsius and humidity is {humidity}%')\n",
    "\n",
    "if __name__ == '__main__':\n",
    "    city = input('Enter city name: ')\n",
    "    get_weather(city)"
   ]
  }
 ],
 "metadata": {
  "kernelspec": {
   "display_name": "Python 3",
   "language": "python",
   "name": "python3"
  },
  "language_info": {
   "codemirror_mode": {
    "name": "ipython",
    "version": 3
   },
   "file_extension": ".py",
   "mimetype": "text/x-python",
   "name": "python",
   "nbconvert_exporter": "python",
   "pygments_lexer": "ipython3",
   "version": "3.11.5"
  }
 },
 "nbformat": 4,
 "nbformat_minor": 2
}
